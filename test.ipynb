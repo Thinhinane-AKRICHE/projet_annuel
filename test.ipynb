{
 "cells": [
  {
   "cell_type": "markdown",
   "id": "66d75e60",
   "metadata": {},
   "source": [
    "# Les imports "
   ]
  },
  {
   "cell_type": "code",
   "execution_count": null,
   "id": "333ddb0b",
   "metadata": {
    "vscode": {
     "languageId": "plaintext"
    }
   },
   "outputs": [],
   "source": [
    "import ctypes\n",
    "import numpy as np\n",
    "import matplotlib.pyplot as plt"
   ]
  }
 ],
 "metadata": {
  "language_info": {
   "name": "python"
  }
 },
 "nbformat": 4,
 "nbformat_minor": 5
}
